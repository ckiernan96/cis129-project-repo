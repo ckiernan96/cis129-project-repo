{
 "cells": [
  {
   "cell_type": "code",
   "execution_count": 2,
   "id": "8269b4f0-e100-4d93-8188-ec655062ba7c",
   "metadata": {},
   "outputs": [
    {
     "name": "stdin",
     "output_type": "stream",
     "text": [
      "Enter First Name:  John\n",
      "Enter Last Name:  Mario\n",
      "Enter Grade from Exam 1:  89\n",
      "Enter Grade from Exam 2:  87\n",
      "Enter Grade from Exam 3:  85\n",
      "Press Enter to Continue Adding More Data or 0 to Finish. \n",
      "Enter First Name:  Daisy\n",
      "Enter Last Name:  Peach\n",
      "Enter Grade from Exam 1:  88\n",
      "Enter Grade from Exam 2:  88\n",
      "Enter Grade from Exam 3:  88\n",
      "Press Enter to Continue Adding More Data or 0 to Finish. 0\n"
     ]
    },
    {
     "name": "stdout",
     "output_type": "stream",
     "text": [
      "First     Last      Grades                           Average\n",
      "John      Mario     89        87        85              87.0\n",
      "Daisy     Peach     88        88        88              88.0\n"
     ]
    },
    {
     "name": "stdin",
     "output_type": "stream",
     "text": [
      "Press Enter to Exit \n"
     ]
    },
    {
     "data": {
      "text/plain": [
       "''"
      ]
     },
     "execution_count": 2,
     "metadata": {},
     "output_type": "execute_result"
    }
   ],
   "source": [
    "#Christopher Kiernan\n",
    "#CIS129 Module 11 Lab\n",
    "#11-22-24\n",
    "\n",
    "# This code writes the grade values and stores them in 'grades.txt' (For 9.1)\n",
    "loop = 1\n",
    "grades = open(\"grades.txt\", \"w\")\n",
    "while not loop == 0:\n",
    "    name1 = input(\"Enter First Name: \")\n",
    "    name2 = input(\"Enter Last Name: \")\n",
    "    grade1 = input(\"Enter Grade from Exam 1: \")\n",
    "    grade2 = input(\"Enter Grade from Exam 2: \")\n",
    "    grade3 = input(\"Enter Grade from Exam 3: \")\n",
    "    grades.write(name1 + \" \" + name2 + \" \" + grade1 + \" \" + grade2 + \" \" + grade3 + \"\\n\")\n",
    "    loop = input(\"Press Enter to Continue Adding More Data or 0 to Finish.\")\n",
    "    if loop == '0':\n",
    "        break\n",
    "\n",
    "# This code reads 'grades.txt' and puts the values into a table (For 9.2)\n",
    "with open('grades.txt', mode='r') as grades:\n",
    "    print(f'{\"First\":<10}{\"Last\":<10}{\"Grades\":<30}{\"Average\":>10}')\n",
    "    for record in grades:\n",
    "        name1, name2, grade1, grade2, grade3 = record.split()\n",
    "        total = int(grade1) + int(grade2) + int(grade3)\n",
    "        tests = 3\n",
    "        average = float(total / tests)\n",
    "        average = str(round(average, 2))\n",
    "        print(f'{name1:<10}{name2:<10}{grade1:<10}{grade2:<10}{grade3:<10}{average:>10}')\n",
    "input(\"Press Enter to Exit\")"
   ]
  },
  {
   "cell_type": "code",
   "execution_count": null,
   "id": "1fced10e-1379-4cae-846f-757df48cd6fe",
   "metadata": {},
   "outputs": [],
   "source": []
  }
 ],
 "metadata": {
  "kernelspec": {
   "display_name": "Python 3 (ipykernel)",
   "language": "python",
   "name": "python3"
  },
  "language_info": {
   "codemirror_mode": {
    "name": "ipython",
    "version": 3
   },
   "file_extension": ".py",
   "mimetype": "text/x-python",
   "name": "python",
   "nbconvert_exporter": "python",
   "pygments_lexer": "ipython3",
   "version": "3.12.3"
  }
 },
 "nbformat": 4,
 "nbformat_minor": 5
}
