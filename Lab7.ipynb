{
 "cells": [
  {
   "cell_type": "code",
   "execution_count": null,
   "id": "45316a02-397b-4b38-b2ca-c7c9e859d939",
   "metadata": {},
   "outputs": [
    {
     "name": "stdout",
     "output_type": "stream",
     "text": [
      "\n"
     ]
    },
    {
     "name": "stdin",
     "output_type": "stream",
     "text": [
      "Enter Player One Name: John\n",
      "Enter Player Two Name: Not John\n"
     ]
    },
    {
     "name": "stdout",
     "output_type": "stream",
     "text": [
      "The winner is TIE!\n"
     ]
    },
    {
     "name": "stdin",
     "output_type": "stream",
     "text": [
      "Do you want to end program? (yes/no):  no\n"
     ]
    },
    {
     "name": "stdout",
     "output_type": "stream",
     "text": [
      "The winner is TIE!\n"
     ]
    },
    {
     "name": "stdin",
     "output_type": "stream",
     "text": [
      "Do you want to end program? (yes/no):  no\n"
     ]
    },
    {
     "name": "stdout",
     "output_type": "stream",
     "text": [
      "The winner is TIE!\n"
     ]
    },
    {
     "name": "stdin",
     "output_type": "stream",
     "text": [
      "Do you want to end program? (yes/no):  no\n"
     ]
    },
    {
     "name": "stdout",
     "output_type": "stream",
     "text": [
      "The winner is Not John!\n"
     ]
    },
    {
     "name": "stdin",
     "output_type": "stream",
     "text": [
      "Do you want to end program? (yes/no):  no\n"
     ]
    },
    {
     "name": "stdout",
     "output_type": "stream",
     "text": [
      "The winner is John!\n"
     ]
    },
    {
     "name": "stdin",
     "output_type": "stream",
     "text": [
      "Do you want to end program? (yes/no):  no\n"
     ]
    },
    {
     "name": "stdout",
     "output_type": "stream",
     "text": [
      "The winner is TIE!\n"
     ]
    },
    {
     "name": "stdin",
     "output_type": "stream",
     "text": [
      "Do you want to end program? (yes/no):  no\n"
     ]
    },
    {
     "name": "stdout",
     "output_type": "stream",
     "text": [
      "The winner is TIE!\n"
     ]
    },
    {
     "name": "stdin",
     "output_type": "stream",
     "text": [
      "Do you want to end program? (yes/no):  no\n"
     ]
    },
    {
     "name": "stdout",
     "output_type": "stream",
     "text": [
      "The winner is John!\n"
     ]
    },
    {
     "name": "stdin",
     "output_type": "stream",
     "text": [
      "Do you want to end program? (yes/no):  no\n"
     ]
    },
    {
     "name": "stdout",
     "output_type": "stream",
     "text": [
      "The winner is TIE!\n"
     ]
    }
   ],
   "source": [
    "# Christopher Kiernan\n",
    "# 10/24/2024\n",
    "# Dice Game Lab for Module 7 - Plays dice game and displays winner\n",
    "\n",
    "# Lab 7-3 The Dice Game\n",
    "# add libraries needed\n",
    "import random\n",
    "# the main function\n",
    "def main():\n",
    "    print()\n",
    "\n",
    "    # initialize variables\n",
    "    endProgram = 'no'\n",
    "    winnerName = 0\n",
    "    playerOne = 'NO NAME'\n",
    "    playerTwo = 'NO NAME'\n",
    "    \n",
    "    # call to inputNames\n",
    "    playerOne, playerTwo = inputNames(playerOne, playerTwo)\n",
    "    \n",
    "    # while loop to run program again\n",
    "    while endProgram == 'no':\n",
    "        \n",
    "        #populate variables\n",
    "        winnerName = 'NO NAME'\n",
    "        p1number = 0\n",
    "        p2number = 0\n",
    "        \n",
    "        # call to rollDice\n",
    "        winnerName = rollDice(p1number, p2number, playerOne, playerTwo, winnerName)\n",
    "        \n",
    "        # call to displayInfo\n",
    "        displayInfo(winnerName)\n",
    "        \n",
    "        endProgram = input('Do you want to end program? (yes/no): ')\n",
    "\n",
    "# this function get the players names\n",
    "def inputNames(playerOne, playerTwo):\n",
    "    playerOne = input(\"Enter Player One Name:\")\n",
    "    playerTwo = input(\"Enter Player Two Name:\")\n",
    "    return playerOne, playerTwo\n",
    "\n",
    "# this function will get the random values\n",
    "def rollDice(p1number, p2number, playerOne, playerTwo, winnerName):\n",
    "    p1number = random.randint(1, 6)\n",
    "    p2number = random.randint(1, 6)\n",
    "    \n",
    "    if p1number > p2number:\n",
    "        winnerName = playerOne\n",
    "    elif p1number == p2number:\n",
    "        winnerName = str('TIE')\n",
    "    else:\n",
    "        winnerName = playerTwo\n",
    "    return winnerName\n",
    "# this function displays the winner\n",
    "def displayInfo(winnerName):\n",
    "    print(f\"The winner is {winnerName}!\")\n",
    "\n",
    "# calls main\n",
    "main()"
   ]
  },
  {
   "cell_type": "code",
   "execution_count": null,
   "id": "7e4f268a-722b-4919-98d3-a9328a1aee26",
   "metadata": {},
   "outputs": [],
   "source": []
  }
 ],
 "metadata": {
  "kernelspec": {
   "display_name": "Python 3 (ipykernel)",
   "language": "python",
   "name": "python3"
  },
  "language_info": {
   "codemirror_mode": {
    "name": "ipython",
    "version": 3
   },
   "file_extension": ".py",
   "mimetype": "text/x-python",
   "name": "python",
   "nbconvert_exporter": "python",
   "pygments_lexer": "ipython3",
   "version": "3.12.3"
  }
 },
 "nbformat": 4,
 "nbformat_minor": 5
}
